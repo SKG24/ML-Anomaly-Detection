{
 "cells": [
  {
   "cell_type": "markdown",
   "id": "76b311c7-650c-4cdb-a87d-d9117f458b79",
   "metadata": {},
   "source": [
    "# Anomaly Detection Data Preparation\n",
    "\n",
    "This document outlines the steps involved in preparing datasets for a machine learning anomaly detection model. \n",
    "\n",
    "## 1. Imports and Data Loading\n",
    "The script begins by importing necessary libraries, such as `numpy` and `pandas`, and then loads the training, test, and validation datasets from specified file paths using `pd.read_csv()`.\n",
    "\n",
    "## 2. Data Cleaning\n",
    "After loading the training dataset, the script checks for NaN values and fills them with 0. This ensures that missing data does not affect subsequent analysis. A function, `safe_float`, is defined to convert values to float safely, returning `None` for values that cannot be converted.\n",
    "\n",
    "## 3. Data Type Specification\n",
    "To optimize memory usage, the datasets are reloaded with specified data types. This step helps in efficiently processing large datasets by using appropriate data types for each column.\n",
    "\n",
    "## 4. Deep Copying DataFrames\n",
    "Deep copies of the original dataframes are created for manipulation. This ensures that the original data remains intact while allowing for modifications in the copies.\n",
    "\n",
    "## 5. Feature Engineering\n",
    "New features are created by aggregating existing columns and computing various metrics, such as:\n",
    "- **Packets per Second (pps)**: Calculated as the total packets divided by the duration.\n",
    "- **Bytes per Second (bps)**: Calculated for both one-way and two-way traffic based on the bytes transferred.\n",
    "- **Bytes per Packet (bpp)**: Calculated for both one-way and two-way traffic by dividing the bytes transferred by the total packets.\n",
    "\n",
    "## 6. Merging Data\n",
    "The script checks if the 'label' column exists in the validation dataset. If present, it creates a new column with binary values based on the presence of the label 'Botnet'. Additionally, it merges training data into the validation data to incorporate additional features.\n",
    "\n",
    "## 7. Saving Processed Data\n",
    "Finally, the processed validation and training datasets are saved as CSV files. This allows for easy access and further analysis in subsequent steps of the machine learning pipeline.\n",
    "\n",
    "This structured approach ensures that the data is clean, well-defined, and enriched with relevant features, setting a strong foundation for the anomaly detection model.\n"
   ]
  },
  {
   "cell_type": "code",
   "execution_count": 1,
   "id": "caf510ef-900b-41b6-967c-4047d8ae15ac",
   "metadata": {},
   "outputs": [],
   "source": [
    "import numpy as np\n",
    "import pandas as pd\n",
    "import matplotlib.pyplot as plt\n",
    "import copy\n",
    "from sklearn.preprocessing import LabelEncoder"
   ]
  },
  {
   "cell_type": "code",
   "execution_count": 6,
   "id": "b0ba45cb-b764-4b1c-9ace-0d86f193650d",
   "metadata": {},
   "outputs": [],
   "source": [
    "training_df = pd.read_csv(\n",
    "    \"/Users/sanatkumargupta/Desktop/ML_Anomaly_Detection/data/trainFeatGen.csv\",\n",
    "    encoding=\"utf8\",\n",
    "    header=0,\n",
    "    dtype={\n",
    "        'timestamp': object,\n",
    "        'duration': float,\n",
    "        'protocol': object,\n",
    "        'source_ip': object,\n",
    "        'source_port': object,\n",
    "        'direction': object,\n",
    "        'destination_ip': object,\n",
    "        'destination_port': object,\n",
    "        'state': object,\n",
    "        'source_type_service': object,\n",
    "        'destination_type_service': object,\n",
    "        'number_total_packets': int,\n",
    "        'bytes_both_directions': int,\n",
    "        'bytes_source_to_destination': int\n",
    "    },\n",
    "    low_memory=False\n",
    ")\n"
   ]
  },
  {
   "cell_type": "code",
   "execution_count": 7,
   "id": "29afa79d-b7f7-4f76-9b2b-dd1d8082bbe8",
   "metadata": {},
   "outputs": [
    {
     "name": "stdout",
     "output_type": "stream",
     "text": [
      "timestamp                           0\n",
      "duration                            0\n",
      "protocol                            0\n",
      "source_ip                           0\n",
      "source_port                         0\n",
      "direction                           0\n",
      "destination_ip                      0\n",
      "destination_port                    0\n",
      "state                               0\n",
      "source_type_of_service              0\n",
      "destination_type_of_service         0\n",
      "total_packets                       0\n",
      "bytes_transferred_total             0\n",
      "bytes_transferred_source_to_dest    0\n",
      "dtype: int64\n"
     ]
    }
   ],
   "source": [
    "training_df = pd.read_csv(\"/Users/sanatkumargupta/Desktop/ML_Anomaly_Detection/data/trainFeatGen.csv\", encoding=\"utf8\", header=0, low_memory=False)\n",
    "\n",
    "# Check for NaN values\n",
    "print(training_df.isna().sum())\n",
    "\n",
    "# If there are NaN values, you can fill or drop them as necessary\n",
    "training_df.fillna(0, inplace=True)  # Example: fill NaNs with 0"
   ]
  },
  {
   "cell_type": "code",
   "execution_count": 8,
   "id": "7ba7a0e6-c617-4859-8c28-5cadeb1451a9",
   "metadata": {},
   "outputs": [],
   "source": [
    "def safe_float(value):\n",
    "    try:\n",
    "        return float(value)\n",
    "    except ValueError:\n",
    "        return None  # or some default value\n",
    "\n",
    "training_df = pd.read_csv(\n",
    "    \"/Users/sanatkumargupta/Desktop/ML_Anomaly_Detection/data/trainFeatGen.csv\",\n",
    "    encoding=\"utf8\",\n",
    "    header=0,\n",
    "    converters={'duration': safe_float},\n",
    "    low_memory=False\n",
    ")"
   ]
  },
  {
   "cell_type": "code",
   "execution_count": 13,
   "id": "c130a826-5b36-46fb-be6b-75f86560159a",
   "metadata": {},
   "outputs": [],
   "source": [
    "training_df = pd.read_csv(\"/Users/sanatkumargupta/Desktop/ML_Anomaly_Detection/data/trainFeatGen.csv\", encoding=\"utf8\", header=0, dtype={'timestamp': object, 'duration': float, 'protocol': object, 'source_ip': object, 'source_port': object, 'direction': object, 'destination_ip': object, 'destination_port': object, 'state': object, 'source_type_service': object, 'destination_type_service': object, 'number_total_packets': int, 'bytes_both_directions': int, 'bytes_source_to_destination': int}, low_memory=False)\n",
    "\n",
    "test_df = pd.read_csv(\"/Users/sanatkumargupta/Desktop/ML_Anomaly_Detection/data/testFeatGen.csv\", encoding=\"utf8\", header=0, dtype={'timestamp': object, 'duration': float, 'protocol': object, 'source_ip': object, 'source_port': object, 'direction': object, 'destination_ip': object, 'destination_port': object, 'state': object, 'source_type_service': object, 'destination_type_service': object, 'number_total_packets': int, 'bytes_both_directions': int, 'bytes_source_to_destination': int}, low_memory=False)\n",
    "\n",
    "valid_df = pd.read_csv(\"/Users/sanatkumargupta/Desktop/ML_Anomaly_Detection/data/validationFeatGen.csv\", encoding=\"utf8\", header=0, dtype={'timestamp': object, 'duration': float, 'protocol': object, 'source_ip': object, 'source_port': object, 'direction': object, 'destination_ip': object, 'destination_port': object, 'state': object, 'source_type_service': object, 'destination_type_service': object, 'number_total_packets': int, 'bytes_both_directions': int, 'bytes_source_to_destination': int, 'label': object}, low_memory=False)\n"
   ]
  },
  {
   "cell_type": "code",
   "execution_count": 15,
   "id": "929bf1f8-33ce-45cb-9f31-243b6c6fc112",
   "metadata": {},
   "outputs": [],
   "source": [
    "traindata = copy.deepcopy(training_df)\n",
    "testdata = copy.deepcopy(test_df)\n",
    "validdata = copy.deepcopy(valid_df)"
   ]
  },
  {
   "cell_type": "markdown",
   "id": "08024997-605a-4031-b2a9-e53cf483a346",
   "metadata": {},
   "source": [
    "**Checking training data**"
   ]
  },
  {
   "cell_type": "code",
   "execution_count": 23,
   "id": "62c8dd6f-7645-4e3f-891e-a37a49eafa9a",
   "metadata": {},
   "outputs": [
    {
     "name": "stdout",
     "output_type": "stream",
     "text": [
      "Index(['timestamp', 'duration', 'protocol', 'source_ip', 'source_port',\n",
      "       'direction', 'destination_ip', 'destination_port', 'state',\n",
      "       'source_type_of_service', 'destination_type_of_service',\n",
      "       'total_packets', 'bytes_transferred_total',\n",
      "       'bytes_transferred_source_to_dest', 'source_type_service'],\n",
      "      dtype='object')\n"
     ]
    }
   ],
   "source": [
    "print(traindata.columns)"
   ]
  },
  {
   "cell_type": "code",
   "execution_count": 24,
   "id": "f8f85582-ece5-425d-889a-a6ceb948cf1e",
   "metadata": {},
   "outputs": [],
   "source": [
    "traindata['source_port'] = traindata['source_port'].fillna('None')\n",
    "traindata['direction'] = traindata['direction'].str.strip()\n",
    "traindata['destination_port'] = traindata['destination_port'].fillna('None')\n",
    "traindata['state'] = traindata['state'].fillna('None')\n",
    "traindata['source_type_service'] = traindata['source_type_of_service']"
   ]
  },
  {
   "cell_type": "markdown",
   "id": "f9022562-35f5-4aa3-9e6c-c6c463330cdd",
   "metadata": {},
   "source": [
    "**Checking valid data**"
   ]
  },
  {
   "cell_type": "code",
   "execution_count": 27,
   "id": "1d318515-9c2d-4474-ad7b-ce876d71715e",
   "metadata": {},
   "outputs": [],
   "source": [
    "validdata['source_port'] = validdata['source_port'].fillna('None')\n",
    "validdata['direction'] = validdata['direction'].str.strip()\n",
    "validdata['destination_port'] = validdata['destination_port'].fillna('None')\n",
    "validdata['state'] = validdata['state'].fillna('None')\n",
    "validdata['source_type_of_service'] = validdata['source_type_of_service'].fillna('None')\n",
    "validdata['destination_type_of_service'] = validdata['destination_type_of_service'].fillna('None')"
   ]
  },
  {
   "cell_type": "code",
   "execution_count": 29,
   "id": "155f95de-15c0-42a8-becf-21b9a9cebc8b",
   "metadata": {},
   "outputs": [
    {
     "name": "stdout",
     "output_type": "stream",
     "text": [
      "Column 'label' not found in validdata.\n"
     ]
    }
   ],
   "source": [
    "# Check if 'label' column exists\n",
    "if 'label' in validdata.columns:\n",
    "    truelabels = validdata[['label']].copy()\n",
    "    truelabels['labelvalues'] = np.where(truelabels['label'].str.contains('Botnet', case=False, na=False), 1, 0)\n",
    "    labelvalues = truelabels[['labelvalues']].copy()\n",
    "    validationdata = validdata.join(labelvalues)\n",
    "else:\n",
    "    print(\"Column 'label' not found in validdata.\")\n"
   ]
  },
  {
   "cell_type": "code",
   "execution_count": 34,
   "id": "c8a62b8a-2e48-4092-9412-c7df3121dacc",
   "metadata": {},
   "outputs": [
    {
     "name": "stdout",
     "output_type": "stream",
     "text": [
      "Index(['timestamp', 'duration', 'protocol', 'source_ip', 'source_port',\n",
      "       'direction', 'destination_ip', 'destination_port', 'state',\n",
      "       'source_type_of_service', 'destination_type_of_service',\n",
      "       'total_packets', 'bytes_transferred_total',\n",
      "       'bytes_transferred_source_to_dest', 'label'],\n",
      "      dtype='object')\n",
      "Index(['timestamp', 'duration', 'protocol', 'source_ip', 'source_port',\n",
      "       'direction', 'destination_ip', 'destination_port', 'state',\n",
      "       'source_type_of_service', 'destination_type_of_service',\n",
      "       'total_packets', 'bytes_transferred_total',\n",
      "       'bytes_transferred_source_to_dest', 'source_type_service'],\n",
      "      dtype='object')\n"
     ]
    }
   ],
   "source": [
    "print(validdata.columns)\n",
    "print(traindata.columns)\n",
    "validdata = validdata.reset_index().merge(traindata[['source_type_service']].reset_index(), left_index=True, right_index=True)"
   ]
  },
  {
   "cell_type": "code",
   "execution_count": 35,
   "id": "a2c31a98-7b9f-49c3-b162-d87c06e999b9",
   "metadata": {},
   "outputs": [],
   "source": [
    "truelabels = validdata[['label']].copy()\n",
    "truelabels['labelvalues'] = np.where(truelabels['label'].str.contains('Botnet', case = False, na = False), 1, 0)\n",
    "labelvalues = truelabels[['labelvalues']].copy()\n",
    "validationdata = validdata.join(labelvalues)"
   ]
  },
  {
   "cell_type": "code",
   "execution_count": 37,
   "id": "bd5f0a4a-4c95-4662-9bc3-c08ae7d9d540",
   "metadata": {},
   "outputs": [],
   "source": [
    "testdata['flowID'] = testdata[['source_ip', 'source_port', 'direction', 'destination_ip', 'destination_port']].agg('/'.join, axis = 1)"
   ]
  },
  {
   "cell_type": "code",
   "execution_count": 39,
   "id": "b61058d5-2124-4d68-8c60-264347641469",
   "metadata": {},
   "outputs": [
    {
     "name": "stdout",
     "output_type": "stream",
     "text": [
      "Index(['timestamp', 'duration', 'protocol', 'source_ip', 'source_port',\n",
      "       'direction', 'destination_ip', 'destination_port', 'state',\n",
      "       'source_type_of_service', 'destination_type_of_service',\n",
      "       'total_packets', 'bytes_transferred_total',\n",
      "       'bytes_transferred_source_to_dest', 'flowID'],\n",
      "      dtype='object')\n"
     ]
    }
   ],
   "source": [
    "print(testdata.columns)"
   ]
  },
  {
   "cell_type": "code",
   "execution_count": 40,
   "id": "1593928c-3908-4f78-9431-cd6e54d6b474",
   "metadata": {},
   "outputs": [],
   "source": [
    "testdata.loc[:, 'pps'] = testdata.total_packets/testdata.duration.replace({0: np.inf})"
   ]
  },
  {
   "cell_type": "code",
   "execution_count": 43,
   "id": "dc38e70a-7b7a-4d74-b0a4-573e4a90ab27",
   "metadata": {},
   "outputs": [],
   "source": [
    "testdata.loc[:, 'bps_oneway'] = testdata.bytes_transferred_source_to_dest/testdata.duration.replace({0: np.inf})"
   ]
  },
  {
   "cell_type": "code",
   "execution_count": 46,
   "id": "5c0c6992-16f8-45f4-8e7d-8dec0373d1ac",
   "metadata": {},
   "outputs": [],
   "source": [
    "testdata.loc[:, 'bpp_oneway'] = testdata.bytes_transferred_source_to_dest/testdata.total_packets.replace({0: np.inf})"
   ]
  },
  {
   "cell_type": "code",
   "execution_count": 47,
   "id": "3142775a-8ee6-4914-a0a6-375110fe6a81",
   "metadata": {},
   "outputs": [],
   "source": [
    "testdata.loc[:, 'bps_twoway'] = testdata.bytes_transferred_total/testdata.duration.replace({0: np.inf})"
   ]
  },
  {
   "cell_type": "code",
   "execution_count": 48,
   "id": "994395e6-759c-477a-85b3-d5fa669835a8",
   "metadata": {},
   "outputs": [],
   "source": [
    "testdata.loc[:, 'bpp_twoway'] = testdata.bytes_transferred_total/testdata.total_packets.replace({0: np.inf})"
   ]
  },
  {
   "cell_type": "code",
   "execution_count": 49,
   "id": "fc914959-ddf2-46ad-8d94-3157e1c3e479",
   "metadata": {},
   "outputs": [],
   "source": [
    "testdata.to_csv('testFeatGen.csv', index = False)"
   ]
  },
  {
   "cell_type": "code",
   "execution_count": 52,
   "id": "e504b2ee-2471-4b64-972a-32bf49681514",
   "metadata": {},
   "outputs": [],
   "source": [
    "validationdata['flowID'] = validationdata[['source_ip', 'source_port', 'direction', 'destination_ip', 'destination_port']].agg('/'.join, axis = 1)\n",
    "validationdata.loc[:, 'pps'] = validationdata.total_packets/validationdata.duration.replace({0: np.inf})\n",
    "validationdata.loc[:, 'bps_oneway'] = validationdata.bytes_transferred_source_to_dest/validationdata.duration.replace({0: np.inf})\n",
    "validationdata.loc[:, 'bpp_oneway'] = validationdata.bytes_transferred_source_to_dest/validationdata.total_packets.replace({0: np.inf})\n",
    "validationdata.loc[:, 'bps_twoway'] = validationdata.bytes_transferred_total/validationdata.duration.replace({0: np.inf})\n",
    "validationdata.loc[:, 'bpp_twoway'] = validationdata.bytes_transferred_total/validationdata.total_packets.replace({0: np.inf})\n",
    "validationdata.to_csv('validationFeatGen.csv', index = False)"
   ]
  },
  {
   "cell_type": "code",
   "execution_count": 53,
   "id": "e8358aad-9473-43e2-b1ea-993c718a55ca",
   "metadata": {},
   "outputs": [],
   "source": [
    "traindata['flowID'] = traindata[['source_ip', 'source_port', 'direction', 'destination_ip', 'destination_port']].agg('/'.join, axis = 1)\n",
    "traindata.loc[:, 'pps'] = traindata.total_packets/traindata.duration.replace({0: np.inf})\n",
    "traindata.loc[:, 'bps_oneway'] = traindata.bytes_transferred_source_to_dest/traindata.duration.replace({0: np.inf})\n",
    "traindata.loc[:, 'bpp_oneway'] = traindata.bytes_transferred_source_to_dest/traindata.total_packets.replace({0: np.inf})\n",
    "traindata.loc[:, 'bps_twoway'] = traindata.bytes_transferred_total/traindata.duration.replace({0: np.inf})\n",
    "traindata.loc[:, 'bpp_twoway'] = traindata.bytes_transferred_total/traindata.total_packets.replace({0: np.inf})\n",
    "traindata.to_csv('TrainFeatGen.csv', index = False)"
   ]
  }
 ],
 "metadata": {
  "kernelspec": {
   "display_name": "Python 3 (ipykernel)",
   "language": "python",
   "name": "python3"
  },
  "language_info": {
   "codemirror_mode": {
    "name": "ipython",
    "version": 3
   },
   "file_extension": ".py",
   "mimetype": "text/x-python",
   "name": "python",
   "nbconvert_exporter": "python",
   "pygments_lexer": "ipython3",
   "version": "3.12.4"
  }
 },
 "nbformat": 4,
 "nbformat_minor": 5
}
